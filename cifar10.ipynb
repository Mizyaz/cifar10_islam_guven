{
  "nbformat": 4,
  "nbformat_minor": 0,
  "metadata": {
    "colab": {
      "name": "Untitled1.ipynb",
      "provenance": [],
      "collapsed_sections": [],
      "authorship_tag": "ABX9TyNpIn8j3IIbOr7RCv/GD10h",
      "include_colab_link": true
    },
    "kernelspec": {
      "name": "python3",
      "display_name": "Python 3"
    },
    "language_info": {
      "name": "python"
    },
    "accelerator": "GPU"
  },
  "cells": [
    {
      "cell_type": "markdown",
      "metadata": {
        "id": "view-in-github",
        "colab_type": "text"
      },
      "source": [
        "<a href=\"https://colab.research.google.com/github/Mizyaz/cifar10_islam_guven/blob/main/cifar10.ipynb\" target=\"_parent\"><img src=\"https://colab.research.google.com/assets/colab-badge.svg\" alt=\"Open In Colab\"/></a>"
      ]
    },
    {
      "cell_type": "code",
      "metadata": {
        "id": "DQ5VWQ7ZSmFN"
      },
      "source": [
        "import sys\n",
        "from matplotlib import pyplot\n",
        "import tensorflow as tf\n",
        "from tensorflow import keras\n",
        "from keras.datasets import cifar10\n",
        "from keras.models import Sequential\n",
        "from keras.layers import Conv2D\n",
        "from keras.layers import MaxPooling2D\n",
        "from keras.layers import Dense\n",
        "from keras.layers import Flatten\n",
        "from keras.optimizers import SGD\n",
        "from keras.preprocessing.image import ImageDataGenerator\n",
        "from keras.layers import Dropout\n",
        "from keras.layers import BatchNormalization"
      ],
      "execution_count": 1,
      "outputs": []
    },
    {
      "cell_type": "code",
      "metadata": {
        "id": "i5D5qJ_zSocB"
      },
      "source": [
        "def load_dataset():\n",
        "\t# load dataset\n",
        "\t(trainX, trainY), (testX, testY) = cifar10.load_data()\n",
        "\t# one hot encode target values\n",
        "\ttrainY = keras.utils.to_categorical(trainY)\n",
        "\ttestY = keras.utils.to_categorical(testY)\n",
        "\treturn trainX, trainY, testX, testY\n"
      ],
      "execution_count": 2,
      "outputs": []
    },
    {
      "cell_type": "code",
      "metadata": {
        "id": "WuNfq9f6TbwG"
      },
      "source": [
        "def scale_pixels(train, test):\n",
        "\t# convert from integers to floats\n",
        "\ttrain_norm = train.astype('float32')\n",
        "\ttest_norm = test.astype('float32')\n",
        "\t# normalize to range 0-1\n",
        "\ttrain_norm = train_norm / 255.0\n",
        "\ttest_norm = test_norm / 255.0\n",
        "\t# return normalized images\n",
        "\treturn train_norm, test_norm"
      ],
      "execution_count": 3,
      "outputs": []
    },
    {
      "cell_type": "code",
      "metadata": {
        "id": "wawoCnYTTg-j"
      },
      "source": [
        "def define_model():\n",
        "\tmodel = Sequential()\n",
        "\tmodel.add(Conv2D(32, (3, 3), activation='relu', kernel_initializer='he_uniform', padding='same', input_shape=(32, 32, 3)))\n",
        "\tmodel.add(BatchNormalization())\n",
        "\tmodel.add(Conv2D(32, (3, 3), activation='relu', kernel_initializer='he_uniform', padding='same'))\n",
        "\tmodel.add(BatchNormalization())\n",
        "\tmodel.add(MaxPooling2D((2, 2)))\n",
        "\tmodel.add(Dropout(0.2))\n",
        "\tmodel.add(Conv2D(64, (3, 3), activation='relu', kernel_initializer='he_uniform', padding='same'))\n",
        "\tmodel.add(BatchNormalization())\n",
        "\tmodel.add(Conv2D(64, (3, 3), activation='relu', kernel_initializer='he_uniform', padding='same'))\n",
        "\tmodel.add(BatchNormalization())\n",
        "\tmodel.add(MaxPooling2D((2, 2)))\n",
        "\tmodel.add(Dropout(0.3))\n",
        "\tmodel.add(Conv2D(128, (3, 3), activation='relu', kernel_initializer='he_uniform', padding='same'))\n",
        "\tmodel.add(BatchNormalization())\n",
        "\tmodel.add(Conv2D(128, (3, 3), activation='relu', kernel_initializer='he_uniform', padding='same'))\n",
        "\tmodel.add(BatchNormalization())\n",
        "\tmodel.add(MaxPooling2D((2, 2)))\n",
        "\tmodel.add(Dropout(0.4))\n",
        "\tmodel.add(Flatten())\n",
        "\tmodel.add(Dense(128, activation='relu', kernel_initializer='he_uniform'))\n",
        "\tmodel.add(BatchNormalization())\n",
        "\tmodel.add(Dropout(0.5))\n",
        "\tmodel.add(Dense(10, activation='softmax'))\n",
        "\t# compile model\n",
        "\topt = SGD(lr=0.001, momentum=0.9)\n",
        "\tmodel.compile(optimizer=opt, loss='categorical_crossentropy', metrics=['accuracy'])\n",
        "\treturn model"
      ],
      "execution_count": 4,
      "outputs": []
    },
    {
      "cell_type": "code",
      "metadata": {
        "id": "g6TaFVocT1HK"
      },
      "source": [
        "def summarize_diagnostics(history):\n",
        "\t# plot loss\n",
        "\tpyplot.subplot(211)\n",
        "\tpyplot.title('Cross Entropy Loss')\n",
        "\tpyplot.plot(history.history['loss'], color='blue', label='train')\n",
        "\tpyplot.plot(history.history['val_loss'], color='orange', label='test')\n",
        "\t# plot accuracy\n",
        "\tpyplot.subplot(212)\n",
        "\tpyplot.title('Classification Accuracy')\n",
        "\tpyplot.plot(history.history['accuracy'], color='blue', label='train')\n",
        "\tpyplot.plot(history.history['val_accuracy'], color='orange', label='test')\n",
        "\t# save plot to file\n",
        "\tfilename = sys.argv[0].split('/')[-1]\n",
        "\tpyplot.savefig(filename + '_plot.png')\n",
        "\tpyplot.close()"
      ],
      "execution_count": 5,
      "outputs": []
    },
    {
      "cell_type": "code",
      "metadata": {
        "colab": {
          "base_uri": "https://localhost:8080/"
        },
        "id": "vXLpKbohT1sx",
        "outputId": "01195c00-557c-4301-8429-b1720a823972"
      },
      "source": [
        "class myCallback(tf.keras.callbacks.Callback):\n",
        "  def on_epoch_end(self, epoch, logs={}):\n",
        "    if(logs.get('accuracy') > 0.75):\n",
        "      print(\"\\nReached 75% accuracy so cancelling training!\")\n",
        "      self.model.stop_training = True \n",
        "# load dataset\n",
        "trainX, trainY, testX, testY = load_dataset()\n",
        "# prepare pixel data\n",
        "trainX, testX = scale_pixels(trainX, testX)\n",
        "# define model\n",
        "model = define_model()\n",
        "# define callback\n",
        "callbacks = myCallback()\n",
        "# create data generator\n",
        "datagen = ImageDataGenerator(width_shift_range=0.1, height_shift_range=0.1, horizontal_flip=True)\n",
        "# prepare iterator\n",
        "it_train = datagen.flow(trainX, trainY, batch_size=64)\n",
        "# fit model\n",
        "steps = int(trainX.shape[0] / 64)\n",
        "history = model.fit_generator(it_train, steps_per_epoch=steps, epochs=50, validation_data=(testX, testY),  callbacks=[callbacks])\n",
        "# evaluate model\n",
        "_, acc = model.evaluate(testX, testY, verbose=0)\n",
        "\n",
        "model_json = model.to_json()\n",
        "with open(\"model.json\", \"w\") as json_file:\n",
        "    json_file.write(model_json)\n",
        "# serialize weights to HDF5\n",
        "model.save_weights(\"model.h5\")\n",
        "print(\"Saved model to disk\")\n",
        "\n",
        "print('> %.3f' % (acc * 100.0))\n",
        "# learning curves\n",
        "summarize_diagnostics(history)"
      ],
      "execution_count": 7,
      "outputs": [
        {
          "output_type": "stream",
          "text": [
            "/usr/local/lib/python3.7/dist-packages/tensorflow/python/keras/optimizer_v2/optimizer_v2.py:375: UserWarning: The `lr` argument is deprecated, use `learning_rate` instead.\n",
            "  \"The `lr` argument is deprecated, use `learning_rate` instead.\")\n",
            "/usr/local/lib/python3.7/dist-packages/keras/engine/training.py:1915: UserWarning: `Model.fit_generator` is deprecated and will be removed in a future version. Please use `Model.fit`, which supports generators.\n",
            "  warnings.warn('`Model.fit_generator` is deprecated and '\n"
          ],
          "name": "stderr"
        },
        {
          "output_type": "stream",
          "text": [
            "Epoch 1/50\n",
            "781/781 [==============================] - 29s 35ms/step - loss: 2.5478 - accuracy: 0.2280 - val_loss: 1.5217 - val_accuracy: 0.4422\n",
            "Epoch 2/50\n",
            "781/781 [==============================] - 28s 35ms/step - loss: 1.6581 - accuracy: 0.3917 - val_loss: 1.3810 - val_accuracy: 0.4868\n",
            "Epoch 3/50\n",
            "781/781 [==============================] - 26s 33ms/step - loss: 1.5045 - accuracy: 0.4481 - val_loss: 1.4130 - val_accuracy: 0.4875\n",
            "Epoch 4/50\n",
            "781/781 [==============================] - 28s 35ms/step - loss: 1.4136 - accuracy: 0.4787 - val_loss: 1.4600 - val_accuracy: 0.4706\n",
            "Epoch 5/50\n",
            "781/781 [==============================] - 27s 34ms/step - loss: 1.3310 - accuracy: 0.5173 - val_loss: 1.3619 - val_accuracy: 0.4987\n",
            "Epoch 6/50\n",
            "781/781 [==============================] - 26s 34ms/step - loss: 1.2667 - accuracy: 0.5421 - val_loss: 1.2344 - val_accuracy: 0.5473\n",
            "Epoch 7/50\n",
            "781/781 [==============================] - 27s 34ms/step - loss: 1.2145 - accuracy: 0.5594 - val_loss: 1.2467 - val_accuracy: 0.5473\n",
            "Epoch 8/50\n",
            "781/781 [==============================] - 26s 34ms/step - loss: 1.1801 - accuracy: 0.5763 - val_loss: 1.1713 - val_accuracy: 0.5722\n",
            "Epoch 9/50\n",
            "781/781 [==============================] - 27s 35ms/step - loss: 1.1482 - accuracy: 0.5864 - val_loss: 1.1514 - val_accuracy: 0.5831\n",
            "Epoch 10/50\n",
            "781/781 [==============================] - 26s 33ms/step - loss: 1.1230 - accuracy: 0.5983 - val_loss: 1.0327 - val_accuracy: 0.6243\n",
            "Epoch 11/50\n",
            "781/781 [==============================] - 27s 35ms/step - loss: 1.0894 - accuracy: 0.6123 - val_loss: 1.1364 - val_accuracy: 0.5952\n",
            "Epoch 12/50\n",
            "781/781 [==============================] - 26s 33ms/step - loss: 1.0689 - accuracy: 0.6161 - val_loss: 1.1436 - val_accuracy: 0.5944\n",
            "Epoch 13/50\n",
            "781/781 [==============================] - 28s 35ms/step - loss: 1.0352 - accuracy: 0.6322 - val_loss: 0.9911 - val_accuracy: 0.6435\n",
            "Epoch 14/50\n",
            "781/781 [==============================] - 26s 33ms/step - loss: 1.0245 - accuracy: 0.6386 - val_loss: 1.0032 - val_accuracy: 0.6407\n",
            "Epoch 15/50\n",
            "781/781 [==============================] - 27s 34ms/step - loss: 0.9980 - accuracy: 0.6491 - val_loss: 0.9398 - val_accuracy: 0.6606\n",
            "Epoch 16/50\n",
            "781/781 [==============================] - 26s 33ms/step - loss: 0.9809 - accuracy: 0.6537 - val_loss: 0.8945 - val_accuracy: 0.6797\n",
            "Epoch 17/50\n",
            "781/781 [==============================] - 26s 34ms/step - loss: 0.9813 - accuracy: 0.6545 - val_loss: 0.9226 - val_accuracy: 0.6708\n",
            "Epoch 18/50\n",
            "781/781 [==============================] - 26s 33ms/step - loss: 0.9437 - accuracy: 0.6672 - val_loss: 0.9344 - val_accuracy: 0.6659\n",
            "Epoch 19/50\n",
            "781/781 [==============================] - 26s 34ms/step - loss: 0.9375 - accuracy: 0.6698 - val_loss: 0.8578 - val_accuracy: 0.6935\n",
            "Epoch 20/50\n",
            "781/781 [==============================] - 26s 33ms/step - loss: 0.9185 - accuracy: 0.6755 - val_loss: 0.8178 - val_accuracy: 0.7060\n",
            "Epoch 21/50\n",
            "781/781 [==============================] - 28s 35ms/step - loss: 0.9154 - accuracy: 0.6793 - val_loss: 0.8703 - val_accuracy: 0.6919\n",
            "Epoch 22/50\n",
            "781/781 [==============================] - 26s 33ms/step - loss: 0.8988 - accuracy: 0.6842 - val_loss: 0.8786 - val_accuracy: 0.6863\n",
            "Epoch 23/50\n",
            "781/781 [==============================] - 27s 34ms/step - loss: 0.8877 - accuracy: 0.6894 - val_loss: 0.8701 - val_accuracy: 0.6916\n",
            "Epoch 24/50\n",
            "781/781 [==============================] - 27s 34ms/step - loss: 0.8746 - accuracy: 0.6943 - val_loss: 0.8458 - val_accuracy: 0.6994\n",
            "Epoch 25/50\n",
            "781/781 [==============================] - 26s 34ms/step - loss: 0.8726 - accuracy: 0.6952 - val_loss: 0.7933 - val_accuracy: 0.7183\n",
            "Epoch 26/50\n",
            "781/781 [==============================] - 27s 34ms/step - loss: 0.8656 - accuracy: 0.6974 - val_loss: 0.7680 - val_accuracy: 0.7289\n",
            "Epoch 27/50\n",
            "781/781 [==============================] - 26s 33ms/step - loss: 0.8388 - accuracy: 0.7069 - val_loss: 0.7691 - val_accuracy: 0.7270\n",
            "Epoch 28/50\n",
            "781/781 [==============================] - 26s 34ms/step - loss: 0.8308 - accuracy: 0.7084 - val_loss: 0.8593 - val_accuracy: 0.6953\n",
            "Epoch 29/50\n",
            "781/781 [==============================] - 26s 33ms/step - loss: 0.8295 - accuracy: 0.7078 - val_loss: 0.7502 - val_accuracy: 0.7293\n",
            "Epoch 30/50\n",
            "781/781 [==============================] - 27s 35ms/step - loss: 0.8282 - accuracy: 0.7112 - val_loss: 0.7710 - val_accuracy: 0.7259\n",
            "Epoch 31/50\n",
            "781/781 [==============================] - 26s 33ms/step - loss: 0.8129 - accuracy: 0.7173 - val_loss: 0.7608 - val_accuracy: 0.7305\n",
            "Epoch 32/50\n",
            "781/781 [==============================] - 27s 35ms/step - loss: 0.7948 - accuracy: 0.7237 - val_loss: 0.7550 - val_accuracy: 0.7346\n",
            "Epoch 33/50\n",
            "781/781 [==============================] - 26s 33ms/step - loss: 0.7890 - accuracy: 0.7238 - val_loss: 0.8424 - val_accuracy: 0.7100\n",
            "Epoch 34/50\n",
            "781/781 [==============================] - 27s 35ms/step - loss: 0.7943 - accuracy: 0.7231 - val_loss: 0.7630 - val_accuracy: 0.7286\n",
            "Epoch 35/50\n",
            "781/781 [==============================] - 27s 35ms/step - loss: 0.7779 - accuracy: 0.7276 - val_loss: 0.7075 - val_accuracy: 0.7466\n",
            "Epoch 36/50\n",
            "781/781 [==============================] - 26s 33ms/step - loss: 0.7717 - accuracy: 0.7281 - val_loss: 0.7055 - val_accuracy: 0.7503\n",
            "Epoch 37/50\n",
            "781/781 [==============================] - 28s 36ms/step - loss: 0.7706 - accuracy: 0.7331 - val_loss: 0.7001 - val_accuracy: 0.7558\n",
            "Epoch 38/50\n",
            "781/781 [==============================] - 26s 33ms/step - loss: 0.7661 - accuracy: 0.7322 - val_loss: 0.7521 - val_accuracy: 0.7346\n",
            "Epoch 39/50\n",
            "781/781 [==============================] - 27s 35ms/step - loss: 0.7579 - accuracy: 0.7356 - val_loss: 0.6900 - val_accuracy: 0.7563\n",
            "Epoch 40/50\n",
            "781/781 [==============================] - 26s 33ms/step - loss: 0.7469 - accuracy: 0.7386 - val_loss: 0.7081 - val_accuracy: 0.7515\n",
            "Epoch 41/50\n",
            "781/781 [==============================] - 27s 34ms/step - loss: 0.7400 - accuracy: 0.7394 - val_loss: 0.6420 - val_accuracy: 0.7728\n",
            "Epoch 42/50\n",
            "781/781 [==============================] - 27s 34ms/step - loss: 0.7309 - accuracy: 0.7447 - val_loss: 0.7367 - val_accuracy: 0.7404\n",
            "Epoch 43/50\n",
            "781/781 [==============================] - 27s 34ms/step - loss: 0.7302 - accuracy: 0.7455 - val_loss: 0.7036 - val_accuracy: 0.7510\n",
            "Epoch 44/50\n",
            "781/781 [==============================] - 27s 35ms/step - loss: 0.7259 - accuracy: 0.7456 - val_loss: 0.7027 - val_accuracy: 0.7558\n",
            "Epoch 45/50\n",
            "781/781 [==============================] - 27s 34ms/step - loss: 0.7327 - accuracy: 0.7468 - val_loss: 0.7088 - val_accuracy: 0.7522\n",
            "Epoch 46/50\n",
            "781/781 [==============================] - 27s 35ms/step - loss: 0.7205 - accuracy: 0.7486 - val_loss: 0.6320 - val_accuracy: 0.7796\n",
            "Epoch 47/50\n",
            "781/781 [==============================] - 26s 34ms/step - loss: 0.7143 - accuracy: 0.7547 - val_loss: 0.6680 - val_accuracy: 0.7664\n",
            "\n",
            "Reached 75% accuracy so cancelling training!\n",
            "Saved model to disk\n",
            "> 76.640\n"
          ],
          "name": "stdout"
        }
      ]
    },
    {
      "cell_type": "code",
      "metadata": {
        "colab": {
          "base_uri": "https://localhost:8080/",
          "height": 374
        },
        "id": "y606BmKhEw41",
        "outputId": "ff1312e9-f48c-498a-c1e4-de6fcac71eae"
      },
      "source": [
        "from tensorflow import keras\n",
        "from keras import backend as K\n",
        "from keras.layers.core import Dense, Activation\n",
        "from keras.optimizers import Adam\n",
        "from keras.metrics import categorical_crossentropy\n",
        "from keras.preprocessing.image import ImageDataGenerator\n",
        "from keras.preprocessing import image\n",
        "from keras.models import Model\n",
        "from keras.applications import imagenet_utils\n",
        "from keras.layers import Dense,GlobalAveragePooling2D\n",
        "from keras.applications import MobileNet\n",
        "from keras.applications.mobilenet import preprocess_input\n",
        "import numpy as np\n",
        "from IPython.display import Image\n",
        "from keras.optimizers import Adam"
      ],
      "execution_count": null,
      "outputs": [
        {
          "output_type": "error",
          "ename": "ImportError",
          "evalue": "ignored",
          "traceback": [
            "\u001b[0;31m---------------------------------------------------------------------------\u001b[0m",
            "\u001b[0;31mImportError\u001b[0m                               Traceback (most recent call last)",
            "\u001b[0;32m<ipython-input-27-6e2d5fdd00d9>\u001b[0m in \u001b[0;36m<module>\u001b[0;34m()\u001b[0m\n\u001b[1;32m      9\u001b[0m \u001b[0;32mfrom\u001b[0m \u001b[0mkeras\u001b[0m\u001b[0;34m.\u001b[0m\u001b[0mapplications\u001b[0m \u001b[0;32mimport\u001b[0m \u001b[0mimagenet_utils\u001b[0m\u001b[0;34m\u001b[0m\u001b[0;34m\u001b[0m\u001b[0m\n\u001b[1;32m     10\u001b[0m \u001b[0;32mfrom\u001b[0m \u001b[0mkeras\u001b[0m\u001b[0;34m.\u001b[0m\u001b[0mlayers\u001b[0m \u001b[0;32mimport\u001b[0m \u001b[0mDense\u001b[0m\u001b[0;34m,\u001b[0m\u001b[0mGlobalAveragePooling2D\u001b[0m\u001b[0;34m\u001b[0m\u001b[0;34m\u001b[0m\u001b[0m\n\u001b[0;32m---> 11\u001b[0;31m \u001b[0;32mfrom\u001b[0m \u001b[0mkeras\u001b[0m\u001b[0;34m.\u001b[0m\u001b[0mapplications\u001b[0m \u001b[0;32mimport\u001b[0m \u001b[0mMobileNet\u001b[0m\u001b[0;34m\u001b[0m\u001b[0;34m\u001b[0m\u001b[0m\n\u001b[0m\u001b[1;32m     12\u001b[0m \u001b[0;32mfrom\u001b[0m \u001b[0mkeras\u001b[0m\u001b[0;34m.\u001b[0m\u001b[0mapplications\u001b[0m\u001b[0;34m.\u001b[0m\u001b[0mmobilenet\u001b[0m \u001b[0;32mimport\u001b[0m \u001b[0mpreprocess_input\u001b[0m\u001b[0;34m\u001b[0m\u001b[0;34m\u001b[0m\u001b[0m\n\u001b[1;32m     13\u001b[0m \u001b[0;32mimport\u001b[0m \u001b[0mnumpy\u001b[0m \u001b[0;32mas\u001b[0m \u001b[0mnp\u001b[0m\u001b[0;34m\u001b[0m\u001b[0;34m\u001b[0m\u001b[0m\n",
            "\u001b[0;31mImportError\u001b[0m: cannot import name 'MobileNet' from 'keras.applications' (/usr/local/lib/python3.7/dist-packages/keras/applications/__init__.py)",
            "",
            "\u001b[0;31m---------------------------------------------------------------------------\u001b[0;32m\nNOTE: If your import is failing due to a missing package, you can\nmanually install dependencies using either !pip or !apt.\n\nTo view examples of installing some common dependencies, click the\n\"Open Examples\" button below.\n\u001b[0;31m---------------------------------------------------------------------------\u001b[0m\n"
          ]
        }
      ]
    },
    {
      "cell_type": "code",
      "metadata": {
        "id": "jUYKOPuGuFYa"
      },
      "source": [
        "from google.colab import drive\n",
        "drive.mount('/content/drive')"
      ],
      "execution_count": null,
      "outputs": []
    },
    {
      "cell_type": "code",
      "metadata": {
        "colab": {
          "base_uri": "https://localhost:8080/"
        },
        "id": "r1g5wk0_HbGN",
        "outputId": "b2466919-c311-49e5-8112-c7e8e3d251c5"
      },
      "source": [
        "\n",
        "mobile = keras.applications.mobilenet.MobileNet()\n",
        "def prepare_image(file):\n",
        "    img_path = ''\n",
        "    img = image.load_img(img_path + file, target_size=(224, 224))\n",
        "    img_array = image.img_to_array(img)\n",
        "    img_array_expanded_dims = np.expand_dims(img_array, axis=0)\n",
        "    return keras.applications.mobilenet.preprocess_input(img_array_expanded_dims)"
      ],
      "execution_count": null,
      "outputs": [
        {
          "output_type": "stream",
          "text": [
            "Downloading data from https://storage.googleapis.com/tensorflow/keras-applications/mobilenet/mobilenet_1_0_224_tf.h5\n",
            "17227776/17225924 [==============================] - 0s 0us/step\n"
          ],
          "name": "stdout"
        }
      ]
    },
    {
      "cell_type": "code",
      "metadata": {
        "colab": {
          "base_uri": "https://localhost:8080/"
        },
        "id": "bxgQZ4OGHef-",
        "outputId": "f2d26c0f-f7d8-4813-c435-1753f04a7a79"
      },
      "source": [
        "!pip install google_images_download\n",
        "from google_images_download import google_images_download\n",
        "response = google_images_download.googleimagesdownload()\n",
        "arguments = {\"keywords\":\"blue tit\",\"limit\":100,\"print_urls\":False,\"format\":\"jpg\", \"size\":\">400*300\"}\n",
        "paths = response.download(arguments)\n",
        "arguments = {\"keywords\":\"crow\",\"limit\":100,\"print_urls\":False, \"format\":\"jpg\", \"size\":\">400*300\"}\n",
        "paths = response.download(arguments)"
      ],
      "execution_count": null,
      "outputs": [
        {
          "output_type": "stream",
          "text": [
            "Collecting google_images_download\n",
            "  Downloading google_images_download-2.8.0.tar.gz (14 kB)\n",
            "Collecting selenium\n",
            "  Downloading selenium-3.141.0-py2.py3-none-any.whl (904 kB)\n",
            "\u001b[K     |████████████████████████████████| 904 kB 6.2 MB/s \n",
            "\u001b[?25hRequirement already satisfied: urllib3 in /usr/local/lib/python3.7/dist-packages (from selenium->google_images_download) (1.24.3)\n",
            "Building wheels for collected packages: google-images-download\n",
            "  Building wheel for google-images-download (setup.py) ... \u001b[?25l\u001b[?25hdone\n",
            "  Created wheel for google-images-download: filename=google_images_download-2.8.0-py2.py3-none-any.whl size=14549 sha256=483d2a53021dfa848062cb3da4e8794cd263c26b9a5db52f788bd9d1e35e07eb\n",
            "  Stored in directory: /root/.cache/pip/wheels/e3/98/42/0d3a76d46cd5a6659afb2f5612d4908ca42d34060973d46727\n",
            "Successfully built google-images-download\n",
            "Installing collected packages: selenium, google-images-download\n",
            "Successfully installed google-images-download-2.8.0 selenium-3.141.0\n",
            "\n",
            "Item no.: 1 --> Item name = blue tit\n",
            "Evaluating...\n",
            "Starting Download...\n",
            "\n",
            "\n",
            "Unfortunately all 100 could not be downloaded because some images were not downloadable. 0 is all we got for this search filter!\n",
            "\n",
            "Errors: 0\n",
            "\n",
            "\n",
            "Item no.: 1 --> Item name = crow\n",
            "Evaluating...\n",
            "Starting Download...\n",
            "\n",
            "\n",
            "Unfortunately all 100 could not be downloaded because some images were not downloadable. 0 is all we got for this search filter!\n",
            "\n",
            "Errors: 0\n",
            "\n"
          ],
          "name": "stdout"
        }
      ]
    },
    {
      "cell_type": "code",
      "metadata": {
        "colab": {
          "base_uri": "https://localhost:8080/",
          "height": 235
        },
        "id": "Yods1mywHiWE",
        "outputId": "ee494e94-9af1-45ef-ecb6-2370a1a383f7"
      },
      "source": [
        "base_model=MobileNet(weights='imagenet',include_top=False) #imports the mobilenet model and discards the last 1000 neuron layer.\n",
        "\n",
        "x=base_model.output\n",
        "x=GlobalAveragePooling2D()(x)\n",
        "x=Dense(1024,activation='relu')(x) #we add dense layers so that the model can learn more complex functions and classify for better results.\n",
        "x=Dense(1024,activation='relu')(x) #dense layer 2\n",
        "x=Dense(512,activation='relu')(x) #dense layer 3\n",
        "preds=Dense(2,activation='softmax')(x) #final layer with softmax activation"
      ],
      "execution_count": null,
      "outputs": [
        {
          "output_type": "error",
          "ename": "NameError",
          "evalue": "ignored",
          "traceback": [
            "\u001b[0;31m---------------------------------------------------------------------------\u001b[0m",
            "\u001b[0;31mNameError\u001b[0m                                 Traceback (most recent call last)",
            "\u001b[0;32m<ipython-input-25-844a05f5bea8>\u001b[0m in \u001b[0;36m<module>\u001b[0;34m()\u001b[0m\n\u001b[0;32m----> 1\u001b[0;31m \u001b[0mbase_model\u001b[0m\u001b[0;34m=\u001b[0m\u001b[0mMobileNet\u001b[0m\u001b[0;34m(\u001b[0m\u001b[0mweights\u001b[0m\u001b[0;34m=\u001b[0m\u001b[0;34m'imagenet'\u001b[0m\u001b[0;34m,\u001b[0m\u001b[0minclude_top\u001b[0m\u001b[0;34m=\u001b[0m\u001b[0;32mFalse\u001b[0m\u001b[0;34m)\u001b[0m \u001b[0;31m#imports the mobilenet model and discards the last 1000 neuron layer.\u001b[0m\u001b[0;34m\u001b[0m\u001b[0;34m\u001b[0m\u001b[0m\n\u001b[0m\u001b[1;32m      2\u001b[0m \u001b[0;34m\u001b[0m\u001b[0m\n\u001b[1;32m      3\u001b[0m \u001b[0mx\u001b[0m\u001b[0;34m=\u001b[0m\u001b[0mbase_model\u001b[0m\u001b[0;34m.\u001b[0m\u001b[0moutput\u001b[0m\u001b[0;34m\u001b[0m\u001b[0;34m\u001b[0m\u001b[0m\n\u001b[1;32m      4\u001b[0m \u001b[0mx\u001b[0m\u001b[0;34m=\u001b[0m\u001b[0mGlobalAveragePooling2D\u001b[0m\u001b[0;34m(\u001b[0m\u001b[0;34m)\u001b[0m\u001b[0;34m(\u001b[0m\u001b[0mx\u001b[0m\u001b[0;34m)\u001b[0m\u001b[0;34m\u001b[0m\u001b[0;34m\u001b[0m\u001b[0m\n\u001b[1;32m      5\u001b[0m \u001b[0mx\u001b[0m\u001b[0;34m=\u001b[0m\u001b[0mDense\u001b[0m\u001b[0;34m(\u001b[0m\u001b[0;36m1024\u001b[0m\u001b[0;34m,\u001b[0m\u001b[0mactivation\u001b[0m\u001b[0;34m=\u001b[0m\u001b[0;34m'relu'\u001b[0m\u001b[0;34m)\u001b[0m\u001b[0;34m(\u001b[0m\u001b[0mx\u001b[0m\u001b[0;34m)\u001b[0m \u001b[0;31m#we add dense layers so that the model can learn more complex functions and classify for better results.\u001b[0m\u001b[0;34m\u001b[0m\u001b[0;34m\u001b[0m\u001b[0m\n",
            "\u001b[0;31mNameError\u001b[0m: name 'MobileNet' is not defined"
          ]
        }
      ]
    },
    {
      "cell_type": "code",
      "metadata": {
        "id": "Z7cK9roDHlZk"
      },
      "source": [
        "model=Model(inputs=base_model.input,outputs=preds)"
      ],
      "execution_count": null,
      "outputs": []
    },
    {
      "cell_type": "code",
      "metadata": {
        "id": "EhLN8RBfHpx1"
      },
      "source": [
        "train_datagen=ImageDataGenerator(preprocessing_function=preprocess_input) #included in our dependencies\n",
        "\n",
        "train_generator=train_datagen.flow_from_directory('C:/Users/Ferhat/Python Code/Workshop/Tensoorflow transfer learning/downloads',\n",
        "                                                 target_size=(224,224),\n",
        "                                                 color_mode='rgb',\n",
        "                                                 batch_size=32,\n",
        "                                                 class_mode='categorical',\n",
        "                                                 shuffle=True)"
      ],
      "execution_count": null,
      "outputs": []
    },
    {
      "cell_type": "code",
      "metadata": {
        "id": "v4yjJc4BHpw6"
      },
      "source": [
        "model.compile(optimizer='Adam',loss='categorical_crossentropy',metrics=['accuracy'])\n",
        "# Adam optimizer\n",
        "# loss function will be categorical cross entropy\n",
        "# evaluation metric will be accuracy\n",
        "\n",
        "step_size_train=train_generator.n//train_generator.batch_size\n",
        "model.fit_generator(generator=train_generator,\n",
        "                   steps_per_epoch=step_size_train,\n",
        "                   epochs=10)"
      ],
      "execution_count": null,
      "outputs": []
    },
    {
      "cell_type": "code",
      "metadata": {
        "id": "iDi7p2ZUH0Ff"
      },
      "source": [
        ""
      ],
      "execution_count": null,
      "outputs": []
    }
  ]
}